{
 "cells": [
  {
   "cell_type": "markdown",
   "id": "d0af1858-1c47-4c03-b2b5-a74915c7df3e",
   "metadata": {},
   "source": [
    "# Задание 2"
   ]
  },
  {
   "cell_type": "markdown",
   "id": "81b79568-4a92-4c30-8702-462f4f540a30",
   "metadata": {},
   "source": [
    "### Инициализация окружения\n",
    "В качестве документации для задания два выступает данный документ Jupyter Notebook. В нём записаны все скрипты и SQL-запросы, касающиеся пунктов 2.1 и 2.2.\n",
    "venv для данного задания и задания 3 одинаковый, поэтому на данном этапе можно задействовать некоторые из необходимых далее библиотек."
   ]
  },
  {
   "cell_type": "code",
   "execution_count": null,
   "id": "85af75a4-704e-4ede-a5ae-2776203135b6",
   "metadata": {},
   "outputs": [],
   "source": [
    "%pip install sqlalchemy psycopg2-binary pandas"
   ]
  },
  {
   "cell_type": "markdown",
   "id": "56777f4b",
   "metadata": {},
   "source": [
    "Далее следует создать соединение к базе данных, через которое будут протестированы все последующие запросы.\n",
    "Необходимые данные для соединения с БД должны браться хотя бы из .env-файла, но в рамках Jupyter Notebook все параметры внесены в отдельный словарь."
   ]
  },
  {
   "cell_type": "code",
   "execution_count": null,
   "id": "83750e39",
   "metadata": {},
   "outputs": [
    {
     "data": {
      "text/plain": [
       "False"
      ]
     },
     "execution_count": 8,
     "metadata": {},
     "output_type": "execute_result"
    }
   ],
   "source": [
    "import pandas as pd\n",
    "from sqlalchemy import create_engine\n",
    "\n",
    "# Параметры подключения к БД\n",
    "DB_CONFIG = {\n",
    "    'drivername': 'postgresql',\n",
    "    'username': 'postgres',\n",
    "    'password': 'postgres',\n",
    "    'host': 'localhost',\n",
    "    'port': '5432',\n",
    "    'database': 'main_db'\n",
    "}\n",
    "\n",
    "# Создаём движок SQLAlchemy\n",
    "engine = create_engine(\n",
    "            f\"{DB_CONFIG['drivername']}://{DB_CONFIG['username']}:{DB_CONFIG['password']}@\"\n",
    "            f\"{DB_CONFIG['host']}:{DB_CONFIG['port']}/{DB_CONFIG['database']}\"\n",
    "        )\n",
    "# Создаём соединение с БД на основе движка\n",
    "db_connection = engine.connect()\n",
    "db_connection.closed # Если выведен False, то соединение настроено"
   ]
  },
  {
   "cell_type": "markdown",
   "id": "c30d8041",
   "metadata": {},
   "source": [
    "### Задание 2.1.\n",
    "Для данного задания необходимо получить информацию о сумме товаров, заказанных под каждого клиента.\n",
    "Получение суммы реализовано через последовательность запросов JOIN вместе с функцией COALESCE, позволяющей вывести сумму 0 в случае отсутствия заказов у данного клиента.\n",
    "Вместо обычного JOIN используется LEFT JOIN для включения в вывод клиентов, которые ещё не сделали ни одного заказа."
   ]
  },
  {
   "cell_type": "code",
   "execution_count": 14,
   "id": "35f52ccb",
   "metadata": {},
   "outputs": [
    {
     "data": {
      "text/html": [
       "<div>\n",
       "<style scoped>\n",
       "    .dataframe tbody tr th:only-of-type {\n",
       "        vertical-align: middle;\n",
       "    }\n",
       "\n",
       "    .dataframe tbody tr th {\n",
       "        vertical-align: top;\n",
       "    }\n",
       "\n",
       "    .dataframe thead th {\n",
       "        text-align: right;\n",
       "    }\n",
       "</style>\n",
       "<table border=\"1\" class=\"dataframe\">\n",
       "  <thead>\n",
       "    <tr style=\"text-align: right;\">\n",
       "      <th></th>\n",
       "      <th>client_name</th>\n",
       "      <th>total_amount</th>\n",
       "    </tr>\n",
       "  </thead>\n",
       "  <tbody>\n",
       "    <tr>\n",
       "      <th>0</th>\n",
       "      <td>Козлова Ирина Петровна</td>\n",
       "      <td>29</td>\n",
       "    </tr>\n",
       "    <tr>\n",
       "      <th>1</th>\n",
       "      <td>Кузнецов Алексей Викторович</td>\n",
       "      <td>29</td>\n",
       "    </tr>\n",
       "    <tr>\n",
       "      <th>2</th>\n",
       "      <td>Захаров Сергей Викторович</td>\n",
       "      <td>29</td>\n",
       "    </tr>\n",
       "    <tr>\n",
       "      <th>3</th>\n",
       "      <td>Петров Петр Петрович</td>\n",
       "      <td>23</td>\n",
       "    </tr>\n",
       "    <tr>\n",
       "      <th>4</th>\n",
       "      <td>Смирнова Ольга Владимировна</td>\n",
       "      <td>20</td>\n",
       "    </tr>\n",
       "    <tr>\n",
       "      <th>5</th>\n",
       "      <td>Иванов Иван Иванович</td>\n",
       "      <td>17</td>\n",
       "    </tr>\n",
       "    <tr>\n",
       "      <th>6</th>\n",
       "      <td>Волков Андрей Сергеевич</td>\n",
       "      <td>13</td>\n",
       "    </tr>\n",
       "    <tr>\n",
       "      <th>7</th>\n",
       "      <td>Сидорова Мария Сергеевна</td>\n",
       "      <td>8</td>\n",
       "    </tr>\n",
       "    <tr>\n",
       "      <th>8</th>\n",
       "      <td>Николаева Екатерина Александровна</td>\n",
       "      <td>2</td>\n",
       "    </tr>\n",
       "    <tr>\n",
       "      <th>9</th>\n",
       "      <td>Федоров Дмитрий Николаевич</td>\n",
       "      <td>0</td>\n",
       "    </tr>\n",
       "  </tbody>\n",
       "</table>\n",
       "</div>"
      ],
      "text/plain": [
       "                         client_name  total_amount\n",
       "0             Козлова Ирина Петровна            29\n",
       "1        Кузнецов Алексей Викторович            29\n",
       "2          Захаров Сергей Викторович            29\n",
       "3               Петров Петр Петрович            23\n",
       "4        Смирнова Ольга Владимировна            20\n",
       "5               Иванов Иван Иванович            17\n",
       "6            Волков Андрей Сергеевич            13\n",
       "7           Сидорова Мария Сергеевна             8\n",
       "8  Николаева Екатерина Александровна             2\n",
       "9         Федоров Дмитрий Николаевич             0"
      ]
     },
     "execution_count": 14,
     "metadata": {},
     "output_type": "execute_result"
    }
   ],
   "source": [
    "task_2_1_query = \"\"\"\n",
    "SELECT \n",
    "    c.name AS client_name,\n",
    "    COALESCE(SUM(og.amount), 0) AS total_amount\n",
    "FROM Clients c\n",
    "LEFT JOIN Orders o ON o.client_id = c.id\n",
    "LEFT JOIN Ordered_goods og ON og.order_id = o.id\n",
    "LEFT JOIN Goods g ON g.id = og.good_id\n",
    "GROUP BY c.id, c.name\n",
    "ORDER BY total_amount DESC;\n",
    "\"\"\"\n",
    "\n",
    "# Выполняем запрос на получения данных из БД\n",
    "df = pd.read_sql(task_2_1_query, engine)\n",
    "df"
   ]
  },
  {
   "cell_type": "markdown",
   "id": "ddf46144",
   "metadata": {},
   "source": [
    "При этом может потребоваться информация о суммарной стоимости всех заказанных товарах, которое получается простой заменой выражения внутри функции SUM."
   ]
  },
  {
   "cell_type": "code",
   "execution_count": 15,
   "id": "d1e5d9e1",
   "metadata": {},
   "outputs": [
    {
     "data": {
      "text/html": [
       "<div>\n",
       "<style scoped>\n",
       "    .dataframe tbody tr th:only-of-type {\n",
       "        vertical-align: middle;\n",
       "    }\n",
       "\n",
       "    .dataframe tbody tr th {\n",
       "        vertical-align: top;\n",
       "    }\n",
       "\n",
       "    .dataframe thead th {\n",
       "        text-align: right;\n",
       "    }\n",
       "</style>\n",
       "<table border=\"1\" class=\"dataframe\">\n",
       "  <thead>\n",
       "    <tr style=\"text-align: right;\">\n",
       "      <th></th>\n",
       "      <th>client_name</th>\n",
       "      <th>total_cost</th>\n",
       "    </tr>\n",
       "  </thead>\n",
       "  <tbody>\n",
       "    <tr>\n",
       "      <th>0</th>\n",
       "      <td>Козлова Ирина Петровна</td>\n",
       "      <td>1817971.9</td>\n",
       "    </tr>\n",
       "    <tr>\n",
       "      <th>1</th>\n",
       "      <td>Кузнецов Алексей Викторович</td>\n",
       "      <td>1794971.9</td>\n",
       "    </tr>\n",
       "    <tr>\n",
       "      <th>2</th>\n",
       "      <td>Захаров Сергей Викторович</td>\n",
       "      <td>1731471.9</td>\n",
       "    </tr>\n",
       "    <tr>\n",
       "      <th>3</th>\n",
       "      <td>Петров Петр Петрович</td>\n",
       "      <td>1335977.9</td>\n",
       "    </tr>\n",
       "    <tr>\n",
       "      <th>4</th>\n",
       "      <td>Смирнова Ольга Владимировна</td>\n",
       "      <td>1187480.9</td>\n",
       "    </tr>\n",
       "    <tr>\n",
       "      <th>5</th>\n",
       "      <td>Иванов Иван Иванович</td>\n",
       "      <td>830484.8</td>\n",
       "    </tr>\n",
       "    <tr>\n",
       "      <th>6</th>\n",
       "      <td>Волков Андрей Сергеевич</td>\n",
       "      <td>804987.9</td>\n",
       "    </tr>\n",
       "    <tr>\n",
       "      <th>7</th>\n",
       "      <td>Сидорова Мария Сергеевна</td>\n",
       "      <td>449992.0</td>\n",
       "    </tr>\n",
       "    <tr>\n",
       "      <th>8</th>\n",
       "      <td>Николаева Екатерина Александровна</td>\n",
       "      <td>128998.0</td>\n",
       "    </tr>\n",
       "    <tr>\n",
       "      <th>9</th>\n",
       "      <td>Федоров Дмитрий Николаевич</td>\n",
       "      <td>0.0</td>\n",
       "    </tr>\n",
       "  </tbody>\n",
       "</table>\n",
       "</div>"
      ],
      "text/plain": [
       "                         client_name  total_cost\n",
       "0             Козлова Ирина Петровна   1817971.9\n",
       "1        Кузнецов Алексей Викторович   1794971.9\n",
       "2          Захаров Сергей Викторович   1731471.9\n",
       "3               Петров Петр Петрович   1335977.9\n",
       "4        Смирнова Ольга Владимировна   1187480.9\n",
       "5               Иванов Иван Иванович    830484.8\n",
       "6            Волков Андрей Сергеевич    804987.9\n",
       "7           Сидорова Мария Сергеевна    449992.0\n",
       "8  Николаева Екатерина Александровна    128998.0\n",
       "9         Федоров Дмитрий Николаевич         0.0"
      ]
     },
     "execution_count": 15,
     "metadata": {},
     "output_type": "execute_result"
    }
   ],
   "source": [
    "# Заменяем выражение внутри функции SUM\n",
    "sum_price_query = task_2_1_query.replace(\"SUM(og.amount)\", \"SUM(g.price * og.amount)\")\n",
    "\n",
    "# Заменяем все упоминания total_amount на total_cost\n",
    "sum_price_query = sum_price_query.replace(\"total_amount\", \"total_cost\")\n",
    "\n",
    "df = pd.read_sql(sum_price_query, engine)\n",
    "df"
   ]
  }
 ],
 "metadata": {
  "kernelspec": {
   "display_name": ".venv (3.12.3)",
   "language": "python",
   "name": "python3"
  },
  "language_info": {
   "codemirror_mode": {
    "name": "ipython",
    "version": 3
   },
   "file_extension": ".py",
   "mimetype": "text/x-python",
   "name": "python",
   "nbconvert_exporter": "python",
   "pygments_lexer": "ipython3",
   "version": "3.12.3"
  }
 },
 "nbformat": 4,
 "nbformat_minor": 5
}
